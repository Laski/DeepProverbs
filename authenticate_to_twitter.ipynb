{
 "cells": [
  {
   "cell_type": "code",
   "execution_count": null,
   "metadata": {},
   "outputs": [],
   "source": [
    "!pip install tweepy\n",
    "import tweepy"
   ]
  },
  {
   "cell_type": "code",
   "execution_count": null,
   "metadata": {},
   "outputs": [],
   "source": [
    "def new_auth(consumer_key=None, consumer_secret=None):\n",
    "    consumer_key = consumer_key or os.environ[\"CONSUMER_KEY\"]\n",
    "    consumer_secret = consumer_secret or os.environ[\"CONSUMER_SECRET\"]\n",
    "    auth = tweepy.OAuthHandler(consumer_key, consumer_secret)\n",
    "    redirect_url = auth.get_authorization_url()\n",
    "    print(redirect_url)\n",
    "    return auth"
   ]
  },
  {
   "cell_type": "code",
   "execution_count": null,
   "metadata": {},
   "outputs": [],
   "source": [
    "def get_access_token(auth, oauth_token, oauth_verifier):\n",
    "    auth.request_token = { 'oauth_token' : oauth_token,\n",
    "                           'oauth_token_secret' : oauth_verifier }\n",
    "    print(auth.get_access_token(oauth_verifier))"
   ]
  },
  {
   "cell_type": "code",
   "execution_count": null,
   "metadata": {},
   "outputs": [],
   "source": [
    "def authenticate(consumer_key=None, consumer_secret=None, access_key=None, access_secret=None):\n",
    "    consumer_key = consumer_key or os.environ[\"CONSUMER_KEY\"]\n",
    "    consumer_secret = consumer_secret or os.environ[\"CONSUMER_SECRET\"]\n",
    "    access_key = access_key or os.environ[\"ACCESS_KEY\"]\n",
    "    access_secret = access_secret or os.environ[\"ACCESS_SECRET\"]\n",
    "\n",
    "    # Authenticate with the Twitter API\n",
    "    auth = tweepy.OAuthHandler(consumer_key, consumer_secret)\n",
    "    auth.set_access_token(access_key, access_secret)\n",
    "    api = tweepy.API(auth)\n",
    "    return api"
   ]
  },
  {
   "cell_type": "code",
   "execution_count": null,
   "metadata": {},
   "outputs": [],
   "source": [
    "CONSUMER_KEY = '...'\n",
    "CONSUMER_SECRET = '...'\n",
    "\n",
    "auth = new_auth(CONSUMER_KEY, CONSUMER_SECRET)"
   ]
  },
  {
   "cell_type": "code",
   "execution_count": null,
   "metadata": {},
   "outputs": [],
   "source": [
    "oauth_token = auth.request_token['oauth_token']\n",
    "oauth_verifier = '...'\n",
    "\n",
    "get_access_token(auth, oauth_token, oauth_verifier)"
   ]
  }
 ],
 "metadata": {
  "kernelspec": {
   "display_name": "Python 3",
   "language": "python",
   "name": "python3"
  },
  "language_info": {
   "codemirror_mode": {
    "name": "ipython",
    "version": 3
   },
   "file_extension": ".py",
   "mimetype": "text/x-python",
   "name": "python",
   "nbconvert_exporter": "python",
   "pygments_lexer": "ipython3",
   "version": "3.8.2"
  }
 },
 "nbformat": 4,
 "nbformat_minor": 4
}
