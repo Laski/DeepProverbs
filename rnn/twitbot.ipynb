{
 "cells": [
  {
   "cell_type": "code",
   "execution_count": 1,
   "metadata": {},
   "outputs": [
    {
     "ename": "ModuleNotFoundError",
     "evalue": "No module named 'tweepy'",
     "output_type": "error",
     "traceback": [
      "\u001b[0;31m---------------------------------------------------------------------------\u001b[0m",
      "\u001b[0;31mModuleNotFoundError\u001b[0m                       Traceback (most recent call last)",
      "\u001b[0;32m<ipython-input-1-0af294e8c7f5>\u001b[0m in \u001b[0;36m<module>\u001b[0;34m\u001b[0m\n\u001b[1;32m     12\u001b[0m \u001b[0;34m\u001b[0m\u001b[0m\n\u001b[1;32m     13\u001b[0m \u001b[0;32mimport\u001b[0m \u001b[0mnumpy\u001b[0m \u001b[0;32mas\u001b[0m \u001b[0mnp\u001b[0m\u001b[0;34m\u001b[0m\u001b[0;34m\u001b[0m\u001b[0m\n\u001b[0;32m---> 14\u001b[0;31m \u001b[0;32mimport\u001b[0m \u001b[0mtweepy\u001b[0m\u001b[0;34m\u001b[0m\u001b[0;34m\u001b[0m\u001b[0m\n\u001b[0m\u001b[1;32m     15\u001b[0m \u001b[0;32mfrom\u001b[0m \u001b[0maitextgen\u001b[0m \u001b[0;32mimport\u001b[0m \u001b[0maitextgen\u001b[0m\u001b[0;34m\u001b[0m\u001b[0;34m\u001b[0m\u001b[0m\n",
      "\u001b[0;31mModuleNotFoundError\u001b[0m: No module named 'tweepy'"
     ]
    }
   ],
   "source": [
    "from typing import List, Optional\n",
    "import json\n",
    "import os\n",
    "import sys\n",
    "\n",
    "if \"linux\" in sys.platform:\n",
    "    os.environ[\"LC_AL\"] = \"C.UTF-8\"\n",
    "    os.environ[\"LANG\"] = \"C.UTF-8\"\n",
    "else:\n",
    "    os.environ[\"LC_AL\"] = \"en_US.utf-8\"\n",
    "    os.environ[\"LANG\"] = \"en_US.utf-8\"\n",
    "\n",
    "import numpy as np\n",
    "import tweepy\n",
    "from aitextgen import aitextgen"
   ]
  },
  {
   "cell_type": "code",
   "execution_count": null,
   "metadata": {},
   "outputs": [],
   "source": [
    "def new_auth():\n",
    "    consumer_key = \"...\"\n",
    "    consumer_secret = \"...\"\n",
    "    auth = tweepy.OAuthHandler(consumer_key, consumer_secret)\n",
    "    redirect_url = auth.get_authorization_url()\n",
    "    print(redirect_url)"
   ]
  },
  {
   "cell_type": "code",
   "execution_count": null,
   "metadata": {},
   "outputs": [],
   "source": [
    "def get_access_token():\n",
    "    oauth_token = \"...\"\n",
    "    oauth_verifier = \"...\"\n",
    "    auth.request_token = { 'oauth_token' : oauth_token,\n",
    "                           'oauth_token_secret' : oauth_verifier }\n",
    "    print(auth.get_access_token(oauth_verifier))"
   ]
  },
  {
   "cell_type": "code",
   "execution_count": null,
   "metadata": {},
   "outputs": [],
   "source": [
    "def authenticate(consumer_key=None, consumer_secret=None, access_key=None, access_secret=None):\n",
    "    consumer_key = consumer_key or os.environ[\"CONSUMER_KEY\"]\n",
    "    consumer_secret = consumer_secret or os.environ[\"CONSUMER_SECRET\"]\n",
    "    access_key = access_key or os.environ[\"ACCESS_KEY\"]\n",
    "    access_secret = access_secret or os.environ[\"ACCESS_SECRET\"]\n",
    "\n",
    "    # Authenticate with the Twitter API\n",
    "    auth = tweepy.OAuthHandler(consumer_key, consumer_secret)\n",
    "    auth.set_access_token(access_key, access_secret)\n",
    "    api = tweepy.API(auth)\n",
    "    return api"
   ]
  },
  {
   "cell_type": "code",
   "execution_count": null,
   "metadata": {},
   "outputs": [],
   "source": [
    "import logging\n",
    "logging.basicConfig(\n",
    "        format=\"%(asctime)s — %(levelname)s — %(name)s — %(message)s\",\n",
    "        datefmt=\"%m/%d/%Y %H:%M:%S\",\n",
    "        level=logging.DEBUG\n",
    "    )\n",
    "import torch\n",
    "device = torch.device('cuda' if torch.cuda.is_available() else 'cpu')\n",
    "print('Using device:', device)"
   ]
  },
  {
   "cell_type": "code",
   "execution_count": null,
   "metadata": {},
   "outputs": [],
   "source": [
    "ai = aitextgen(model=\"pytorch_model.bin\",\n",
    "               config=\"config.json\",\n",
    "               vocab_file=\"aitextgen-vocab.json\",\n",
    "               merges_file=\"aitextgen-merges.json\",\n",
    "               to_gpu=False)"
   ]
  },
  {
   "cell_type": "code",
   "execution_count": null,
   "metadata": {},
   "outputs": [],
   "source": [
    "ai.generate(n=50, prompt=\"@quemerogoku\")"
   ]
  },
  {
   "cell_type": "code",
   "execution_count": null,
   "metadata": {},
   "outputs": [],
   "source": [
    "import re\n",
    "def new_tweet_text(temperature=0.7):\n",
    "    # generate a tweet\n",
    "    generated_text = ai.generate_one(temperature=temperature)\n",
    "    while len(generated_text) >= 280:\n",
    "        generated_text = ai.generate_one(temperature=temperature)\n",
    "    \n",
    "    if 'https://t.co' in generated_text:\n",
    "        generated_text = re.sub('https\\:\\/\\/t\\.co.*', '', generated_text)\n",
    "    \n",
    "    print(generated_text)\n",
    "    return generated_text"
   ]
  },
  {
   "cell_type": "code",
   "execution_count": null,
   "metadata": {},
   "outputs": [],
   "source": [
    "api = authenticate()"
   ]
  },
  {
   "cell_type": "code",
   "execution_count": null,
   "metadata": {},
   "outputs": [],
   "source": [
    "api.update_status(new_tweet_text())"
   ]
  },
  {
   "cell_type": "code",
   "execution_count": null,
   "metadata": {},
   "outputs": [],
   "source": [
    "from random import randint\n",
    "from time import sleep\n",
    "\n",
    "\n",
    "class MyStreamListener(tweepy.StreamListener):\n",
    "    def on_status(self, status):\n",
    "        if status.author.id == 190461974:\n",
    "            seconds = randint(60, 300)\n",
    "            print(f\"new tweet. will wait {seconds} seconds and then tweet\")\n",
    "            sleep(seconds)\n",
    "            api.update_status(new_tweet_text())\n",
    "\n",
    "myStreamListener = MyStreamListener()\n",
    "myStream = tweepy.Stream(auth=api.auth, listener=myStreamListener)\n",
    "myStream.filter(follow=[\"190461974\"])\n",
    "#myStream.filter(track=[\"python\"])"
   ]
  },
  {
   "cell_type": "code",
   "execution_count": null,
   "metadata": {},
   "outputs": [],
   "source": []
  }
 ],
 "metadata": {
  "kernelspec": {
   "display_name": "Python 3",
   "language": "python",
   "name": "python3"
  },
  "language_info": {
   "codemirror_mode": {
    "name": "ipython",
    "version": 3
   },
   "file_extension": ".py",
   "mimetype": "text/x-python",
   "name": "python",
   "nbconvert_exporter": "python",
   "pygments_lexer": "ipython3",
   "version": "3.8.2"
  }
 },
 "nbformat": 4,
 "nbformat_minor": 4
}
